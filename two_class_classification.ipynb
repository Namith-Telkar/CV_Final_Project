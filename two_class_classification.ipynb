{
  "cells": [
    {
      "cell_type": "code",
      "execution_count": 1,
      "metadata": {
        "id": "gYcpUnQuiKLn"
      },
      "outputs": [],
      "source": [
        "import os\n",
        "import numpy as np\n",
        "import cv2\n",
        "import matplotlib.pyplot as plt\n",
        "from sklearn.cluster import KMeans\n",
        "from skimage import morphology\n",
        "from skimage.measure import regionprops\n",
        "import tensorflow as tf\n",
        "from tensorflow.keras import layers, models"
      ]
    },
    {
      "cell_type": "code",
      "execution_count": 2,
      "metadata": {
        "id": "lMFd3fLniaCR"
      },
      "outputs": [],
      "source": [
        "# Step 1: Load and preprocess images\n",
        "def load_images_from_folder(folder):\n",
        "    images = []\n",
        "    for filename in os.listdir(folder):\n",
        "        img = cv2.imread(os.path.join(folder, filename))\n",
        "        if img is not None:\n",
        "            img = cv2.resize(img, (256, 256))  \n",
        "            images.append(img)\n",
        "    return images"
      ]
    },
    {
      "cell_type": "code",
      "execution_count": 3,
      "metadata": {
        "id": "yORkURXuiiIE"
      },
      "outputs": [],
      "source": [
        "image_folder = './Image_gen/2k_image_cell_types/'\n",
        "images = load_images_from_folder(image_folder)"
      ]
    },
    {
      "cell_type": "code",
      "execution_count": 4,
      "metadata": {
        "id": "qbCAvt1Aimst"
      },
      "outputs": [],
      "source": [
        "# Step 2: U-Net Architecture\n",
        "def unet_model(input_shape):\n",
        "    inputs = tf.keras.Input(shape=input_shape)\n",
        "\n",
        "    # Encoder\n",
        "    conv1 = layers.Conv2D(32, (3, 3), activation='relu', padding='same')(inputs)\n",
        "    conv1 = layers.Conv2D(32, (3, 3), activation='relu', padding='same')(conv1)\n",
        "    pool1 = layers.MaxPooling2D(pool_size=(2, 2))(conv1)\n",
        "\n",
        "    conv2 = layers.Conv2D(64, (3, 3), activation='relu', padding='same')(pool1)\n",
        "    conv2 = layers.Conv2D(64, (3, 3), activation='relu', padding='same')(conv2)\n",
        "    pool2 = layers.MaxPooling2D(pool_size=(2, 2))(conv2)\n",
        "\n",
        "    # Decoder\n",
        "    conv3 = layers.Conv2D(128, (3, 3), activation='relu', padding='same')(pool2)\n",
        "    conv3 = layers.Conv2D(128, (3, 3), activation='relu', padding='same')(conv3)\n",
        "    up1 = layers.UpSampling2D((2, 2))(conv3)\n",
        "\n",
        "    conv4 = layers.Conv2D(64, (3, 3), activation='relu', padding='same')(up1)\n",
        "    conv4 = layers.Conv2D(64, (3, 3), activation='relu', padding='same')(conv4)\n",
        "    up2 = layers.UpSampling2D((2, 2))(conv4)\n",
        "\n",
        "    outputs = layers.Conv2D(3, (1, 1), activation='sigmoid')(up2)  \n",
        "\n",
        "    model = models.Model(inputs=inputs, outputs=outputs)\n",
        "    return model"
      ]
    },
    {
      "cell_type": "code",
      "execution_count": 5,
      "metadata": {
        "id": "iM6o_ZNbiqQi"
      },
      "outputs": [],
      "source": [
        "# Step 3: U-Net Training (Self-supervised)\n",
        "input_shape = (256, 256, 3) \n",
        "unet = unet_model(input_shape)\n",
        "unet.compile(optimizer='adam', loss='binary_crossentropy')"
      ]
    },
    {
      "cell_type": "code",
      "execution_count": 6,
      "metadata": {
        "id": "TTUXipLGitqz"
      },
      "outputs": [
        {
          "name": "stdout",
          "output_type": "stream",
          "text": [
            "Epoch 1/10\n",
            "18/18 [==============================] - 16s 822ms/step - loss: 0.6258\n",
            "Epoch 2/10\n",
            "18/18 [==============================] - 15s 808ms/step - loss: 0.4685\n",
            "Epoch 3/10\n",
            "18/18 [==============================] - 16s 865ms/step - loss: 0.4439\n",
            "Epoch 4/10\n",
            "18/18 [==============================] - 17s 971ms/step - loss: 0.4368\n",
            "Epoch 5/10\n",
            "18/18 [==============================] - 17s 955ms/step - loss: 0.4462\n",
            "Epoch 6/10\n",
            "18/18 [==============================] - 17s 944ms/step - loss: 0.4331\n",
            "Epoch 7/10\n",
            "18/18 [==============================] - 17s 952ms/step - loss: 0.4301\n",
            "Epoch 8/10\n",
            "18/18 [==============================] - 17s 939ms/step - loss: 0.4289\n",
            "Epoch 9/10\n",
            "18/18 [==============================] - 17s 944ms/step - loss: 0.4282\n",
            "Epoch 10/10\n",
            "18/18 [==============================] - 18s 995ms/step - loss: 0.4276\n"
          ]
        },
        {
          "data": {
            "text/plain": [
              "<keras.callbacks.History at 0x20c17f36e90>"
            ]
          },
          "execution_count": 6,
          "metadata": {},
          "output_type": "execute_result"
        }
      ],
      "source": [
        "# Preprocess and normalize images\n",
        "normalized_images = np.array(images) / 255.0\n",
        "\n",
        "# Train U-Net on images (self-supervised)\n",
        "unet.fit(normalized_images, normalized_images, epochs=10, batch_size=8)"
      ]
    },
    {
      "cell_type": "code",
      "execution_count": 7,
      "metadata": {
        "id": "v5yaUlgejql6"
      },
      "outputs": [
        {
          "name": "stdout",
          "output_type": "stream",
          "text": [
            "1/1 [==============================] - 0s 112ms/step\n",
            "1/1 [==============================] - 0s 46ms/step\n",
            "1/1 [==============================] - 0s 45ms/step\n",
            "1/1 [==============================] - 0s 44ms/step\n",
            "1/1 [==============================] - 0s 44ms/step\n",
            "1/1 [==============================] - 0s 45ms/step\n",
            "1/1 [==============================] - 0s 45ms/step\n",
            "1/1 [==============================] - 0s 49ms/step\n",
            "1/1 [==============================] - 0s 48ms/step\n",
            "1/1 [==============================] - 0s 45ms/step\n",
            "1/1 [==============================] - 0s 45ms/step\n",
            "1/1 [==============================] - 0s 47ms/step\n",
            "1/1 [==============================] - 0s 47ms/step\n",
            "1/1 [==============================] - 0s 46ms/step\n",
            "1/1 [==============================] - 0s 46ms/step\n",
            "1/1 [==============================] - 0s 46ms/step\n",
            "1/1 [==============================] - 0s 49ms/step\n",
            "1/1 [==============================] - 0s 47ms/step\n",
            "1/1 [==============================] - 0s 47ms/step\n",
            "1/1 [==============================] - 0s 46ms/step\n",
            "1/1 [==============================] - 0s 46ms/step\n",
            "1/1 [==============================] - 0s 46ms/step\n",
            "1/1 [==============================] - 0s 46ms/step\n",
            "1/1 [==============================] - 0s 45ms/step\n",
            "1/1 [==============================] - 0s 46ms/step\n",
            "1/1 [==============================] - 0s 49ms/step\n",
            "1/1 [==============================] - 0s 47ms/step\n",
            "1/1 [==============================] - 0s 47ms/step\n",
            "1/1 [==============================] - 0s 50ms/step\n",
            "1/1 [==============================] - 0s 47ms/step\n",
            "1/1 [==============================] - 0s 47ms/step\n",
            "1/1 [==============================] - 0s 45ms/step\n",
            "1/1 [==============================] - 0s 47ms/step\n",
            "1/1 [==============================] - 0s 46ms/step\n",
            "1/1 [==============================] - 0s 51ms/step\n",
            "1/1 [==============================] - 0s 46ms/step\n",
            "1/1 [==============================] - 0s 47ms/step\n",
            "1/1 [==============================] - 0s 49ms/step\n",
            "1/1 [==============================] - 0s 44ms/step\n",
            "1/1 [==============================] - 0s 47ms/step\n",
            "1/1 [==============================] - 0s 46ms/step\n",
            "1/1 [==============================] - 0s 45ms/step\n",
            "1/1 [==============================] - 0s 52ms/step\n",
            "1/1 [==============================] - 0s 45ms/step\n",
            "1/1 [==============================] - 0s 47ms/step\n",
            "1/1 [==============================] - 0s 45ms/step\n",
            "1/1 [==============================] - 0s 45ms/step\n",
            "1/1 [==============================] - 0s 46ms/step\n",
            "1/1 [==============================] - 0s 46ms/step\n",
            "1/1 [==============================] - 0s 45ms/step\n",
            "1/1 [==============================] - 0s 45ms/step\n",
            "1/1 [==============================] - 0s 48ms/step\n",
            "1/1 [==============================] - 0s 45ms/step\n",
            "1/1 [==============================] - 0s 46ms/step\n",
            "1/1 [==============================] - 0s 44ms/step\n",
            "1/1 [==============================] - 0s 46ms/step\n",
            "1/1 [==============================] - 0s 47ms/step\n",
            "1/1 [==============================] - 0s 46ms/step\n",
            "1/1 [==============================] - 0s 46ms/step\n",
            "1/1 [==============================] - 0s 45ms/step\n",
            "1/1 [==============================] - 0s 46ms/step\n",
            "1/1 [==============================] - 0s 46ms/step\n",
            "1/1 [==============================] - 0s 46ms/step\n",
            "1/1 [==============================] - 0s 45ms/step\n",
            "1/1 [==============================] - 0s 46ms/step\n",
            "1/1 [==============================] - 0s 46ms/step\n",
            "1/1 [==============================] - 0s 46ms/step\n",
            "1/1 [==============================] - 0s 47ms/step\n",
            "1/1 [==============================] - 0s 48ms/step\n",
            "1/1 [==============================] - 0s 46ms/step\n",
            "1/1 [==============================] - 0s 46ms/step\n",
            "1/1 [==============================] - 0s 45ms/step\n",
            "1/1 [==============================] - 0s 44ms/step\n",
            "1/1 [==============================] - 0s 45ms/step\n",
            "1/1 [==============================] - 0s 48ms/step\n",
            "1/1 [==============================] - 0s 46ms/step\n",
            "1/1 [==============================] - 0s 45ms/step\n",
            "1/1 [==============================] - 0s 46ms/step\n",
            "1/1 [==============================] - 0s 46ms/step\n",
            "1/1 [==============================] - 0s 46ms/step\n",
            "1/1 [==============================] - 0s 47ms/step\n",
            "1/1 [==============================] - 0s 46ms/step\n",
            "1/1 [==============================] - 0s 44ms/step\n",
            "1/1 [==============================] - 0s 45ms/step\n",
            "1/1 [==============================] - 0s 45ms/step\n",
            "1/1 [==============================] - 0s 47ms/step\n",
            "1/1 [==============================] - 0s 46ms/step\n",
            "1/1 [==============================] - 0s 45ms/step\n",
            "1/1 [==============================] - 0s 46ms/step\n",
            "1/1 [==============================] - 0s 45ms/step\n",
            "1/1 [==============================] - 0s 46ms/step\n",
            "1/1 [==============================] - 0s 46ms/step\n",
            "1/1 [==============================] - 0s 44ms/step\n",
            "1/1 [==============================] - 0s 44ms/step\n",
            "1/1 [==============================] - 0s 46ms/step\n",
            "1/1 [==============================] - 0s 46ms/step\n",
            "1/1 [==============================] - 0s 45ms/step\n",
            "1/1 [==============================] - 0s 45ms/step\n",
            "1/1 [==============================] - 0s 46ms/step\n",
            "1/1 [==============================] - 0s 45ms/step\n",
            "1/1 [==============================] - 0s 49ms/step\n",
            "1/1 [==============================] - 0s 47ms/step\n",
            "1/1 [==============================] - 0s 48ms/step\n",
            "1/1 [==============================] - 0s 47ms/step\n",
            "1/1 [==============================] - 0s 46ms/step\n",
            "1/1 [==============================] - 0s 45ms/step\n",
            "1/1 [==============================] - 0s 46ms/step\n",
            "1/1 [==============================] - 0s 47ms/step\n",
            "1/1 [==============================] - 0s 48ms/step\n",
            "1/1 [==============================] - 0s 47ms/step\n",
            "1/1 [==============================] - 0s 49ms/step\n",
            "1/1 [==============================] - 0s 48ms/step\n",
            "1/1 [==============================] - 0s 49ms/step\n",
            "1/1 [==============================] - 0s 46ms/step\n",
            "1/1 [==============================] - 0s 48ms/step\n",
            "1/1 [==============================] - 0s 46ms/step\n",
            "1/1 [==============================] - 0s 50ms/step\n",
            "1/1 [==============================] - 0s 49ms/step\n",
            "1/1 [==============================] - 0s 52ms/step\n",
            "1/1 [==============================] - 0s 46ms/step\n",
            "1/1 [==============================] - 0s 50ms/step\n",
            "1/1 [==============================] - 0s 49ms/step\n",
            "1/1 [==============================] - 0s 49ms/step\n",
            "1/1 [==============================] - 0s 50ms/step\n",
            "1/1 [==============================] - 0s 45ms/step\n",
            "1/1 [==============================] - 0s 47ms/step\n",
            "1/1 [==============================] - 0s 47ms/step\n",
            "1/1 [==============================] - 0s 46ms/step\n",
            "1/1 [==============================] - 0s 47ms/step\n",
            "1/1 [==============================] - 0s 49ms/step\n",
            "1/1 [==============================] - 0s 47ms/step\n",
            "1/1 [==============================] - 0s 47ms/step\n",
            "1/1 [==============================] - 0s 47ms/step\n",
            "1/1 [==============================] - 0s 48ms/step\n",
            "1/1 [==============================] - 0s 48ms/step\n",
            "1/1 [==============================] - 0s 48ms/step\n",
            "1/1 [==============================] - 0s 48ms/step\n",
            "1/1 [==============================] - 0s 47ms/step\n",
            "1/1 [==============================] - 0s 47ms/step\n",
            "1/1 [==============================] - 0s 46ms/step\n",
            "1/1 [==============================] - 0s 46ms/step\n"
          ]
        }
      ],
      "source": [
        "# Step 4: Segment Images with U-Net\n",
        "def segment_images(images, model):\n",
        "    segmented_images = []\n",
        "    for img in images:\n",
        "        # Preprocess and normalize image\n",
        "        normalized_img = img / 255.0\n",
        "        normalized_img = np.expand_dims(normalized_img, axis=0)\n",
        "\n",
        "        # Segment image using U-Net\n",
        "        segmented_img = model.predict(normalized_img)[0]\n",
        "        segmented_img = (segmented_img > 0.5).astype(np.uint8) * 255\n",
        "\n",
        "        segmented_images.append(segmented_img)\n",
        "    return segmented_images\n",
        "\n",
        "segmented_images = segment_images(images, unet)"
      ]
    },
    {
      "cell_type": "code",
      "execution_count": 8,
      "metadata": {
        "id": "oZPT9DLsj1uW"
      },
      "outputs": [],
      "source": [
        "from skimage.measure import label\n",
        "\n",
        "# Step 5: Feature Extraction (Width and Continuity)\n",
        "def extract_features(segmented_images):\n",
        "    features = []\n",
        "    for seg_img in segmented_images:\n",
        "        # Convert segmented image to binary\n",
        "        binary_img = (seg_img / 255).astype(np.uint8)  # Convert to uint8\n",
        "        binary_img = binary_img > 0  # Threshold to create binary mask\n",
        "        labeled_img = label(binary_img)  # Label connected components\n",
        "        regions = regionprops(labeled_img)\n",
        "\n",
        "        # Measure width and continuity features\n",
        "        widths = [region.bbox[3] - region.bbox[1] for region in regions]\n",
        "        continuity = len(regions)\n",
        "\n",
        "        features.append((np.mean(widths), continuity))  # Store mean width and continuity\n",
        "    return np.array(features)"
      ]
    },
    {
      "cell_type": "code",
      "execution_count": 9,
      "metadata": {
        "id": "TwE7Tfy2j3t0"
      },
      "outputs": [],
      "source": [
        "# Extract features from segmented images\n",
        "image_features = extract_features(segmented_images)"
      ]
    },
    {
      "cell_type": "code",
      "execution_count": 10,
      "metadata": {
        "id": "l0SCqemSkngp"
      },
      "outputs": [
        {
          "name": "stderr",
          "output_type": "stream",
          "text": [
            "c:\\Users\\Shreeja Deshpande\\AppData\\Local\\Programs\\Python\\Python311\\Lib\\site-packages\\sklearn\\cluster\\_kmeans.py:870: FutureWarning: The default value of `n_init` will change from 10 to 'auto' in 1.4. Set the value of `n_init` explicitly to suppress the warning\n",
            "  warnings.warn(\n"
          ]
        }
      ],
      "source": [
        "# Step 6: Unsupervised Classification (Clustering)\n",
        "def unsupervised_classification(features):\n",
        "    # Perform K-Means clustering\n",
        "    kmeans = KMeans(n_clusters=2, random_state=0).fit(features)\n",
        "    labels = kmeans.labels_\n",
        "    return labels\n",
        "\n",
        "# Perform unsupervised classification\n",
        "labels = unsupervised_classification(image_features)"
      ]
    },
    {
      "cell_type": "code",
      "execution_count": 13,
      "metadata": {
        "id": "gFv3Me7Qkv2M"
      },
      "outputs": [
        {
          "data": {
            "image/png": "[encoded data removed]",
            "text/plain": [
              "<Figure size 640x480 with 2 Axes>"
            ]
          },
          "metadata": {},
          "output_type": "display_data"
        }
      ],
      "source": [
        "# Step 7: Visualization\n",
        "def visualize_classification(images, labels):\n",
        "    for i, img in enumerate(images):\n",
        "        plt.subplot(1, 2, labels[i] + 1)\n",
        "        plt.imshow(cv2.cvtColor(img, cv2.COLOR_BGR2RGB))\n",
        "        plt.title(\"Normal\" if labels[i] == 0 else \"Abnormal\")\n",
        "        plt.axis('off')\n",
        "    plt.show()\n",
        "\n",
        "# Visualize the classification results\n",
        "visualize_classification(images, labels)"
      ]
    },
    {
      "cell_type": "code",
      "execution_count": 14,
      "metadata": {
        "id": "_HfnHB0-cLPq"
      },
      "outputs": [
        {
          "data": {
            "image/png": "[encoded data removed]",
            "text/plain": [
              "<Figure size 800x600 with 2 Axes>"
            ]
          },
          "metadata": {},
          "output_type": "display_data"
        }
      ],
      "source": [
        "import matplotlib.pyplot as plt\n",
        "\n",
        "# Visualize clusters\n",
        "def visualize_clusters(features, labels):\n",
        "    plt.figure(figsize=(8, 6))\n",
        "    plt.scatter(features[:, 0], features[:, 1], c=labels, cmap='viridis')\n",
        "    plt.xlabel('Mean Width')\n",
        "    plt.ylabel('Continuity')\n",
        "    plt.title('Cluster Visualization')\n",
        "    plt.colorbar(label='Cluster')\n",
        "    plt.grid(True)\n",
        "    plt.show()\n",
        "\n",
        "# Visualize clusters\n",
        "visualize_clusters(image_features, labels)"
      ]
    }
  ],
  "metadata": {
    "accelerator": "GPU",
    "colab": {
      "gpuType": "L4",
      "machine_shape": "hm",
      "private_outputs": true,
      "provenance": []
    },
    "kernelspec": {
      "display_name": "Python 3",
      "name": "python3"
    },
    "language_info": {
      "codemirror_mode": {
        "name": "ipython",
        "version": 3
      },
      "file_extension": ".py",
      "mimetype": "text/x-python",
      "name": "python",
      "nbconvert_exporter": "python",
      "pygments_lexer": "ipython3",
      "version": "3.11.3"
    }
  },
  "nbformat": 4,
  "nbformat_minor": 0
}
